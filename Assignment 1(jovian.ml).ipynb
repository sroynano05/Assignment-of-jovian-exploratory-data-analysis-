{
 "cells": [
  {
   "cell_type": "markdown",
   "id": "198f080e-3b05-4643-ae86-6cc4e344154c",
   "metadata": {},
   "source": [
    "## ASSIGNMENT-1\n",
    "### *PROBLEM 1*"
   ]
  },
  {
   "cell_type": "code",
   "execution_count": 1,
   "id": "df450fdd-acb7-48fa-8457-ff4d8a7c33ec",
   "metadata": {},
   "outputs": [],
   "source": [
    "name = 'Suman Roy'"
   ]
  },
  {
   "cell_type": "code",
   "execution_count": 3,
   "id": "6f5ec9da-ab35-4fbf-ac8e-1b7b796fce08",
   "metadata": {},
   "outputs": [],
   "source": [
    "age= 18"
   ]
  },
  {
   "cell_type": "code",
   "execution_count": 4,
   "id": "0c117ec6-4416-4906-8210-053ab578e85a",
   "metadata": {},
   "outputs": [],
   "source": [
    "has_android_phone=True"
   ]
  },
  {
   "cell_type": "code",
   "execution_count": 5,
   "id": "7a2d505b-53f7-4a44-b7c0-d196e94d84b5",
   "metadata": {},
   "outputs": [
    {
     "data": {
      "text/plain": [
       "('Suman Roy', 18, True)"
      ]
     },
     "execution_count": 5,
     "metadata": {},
     "output_type": "execute_result"
    }
   ],
   "source": [
    "name,age,has_android_phone"
   ]
  },
  {
   "cell_type": "code",
   "execution_count": 15,
   "id": "8fac3241-93dc-4e96-98f7-5c2ec91ae12a",
   "metadata": {},
   "outputs": [],
   "source": [
    "person= dict(Name =name,Age=age,HasAndroidPhone= has_android_phone)"
   ]
  },
  {
   "cell_type": "code",
   "execution_count": 18,
   "id": "1c4667b2-cb95-4afb-a007-fb774a7c2798",
   "metadata": {},
   "outputs": [
    {
     "name": "stdout",
     "output_type": "stream",
     "text": [
      "Suman Roy is aged 18, and owns an Has Android phone\n"
     ]
    }
   ],
   "source": [
    "print(\"{} is aged {}, and owns an {}\".format(\n",
    "person['Name'],\n",
    "person['Age'],\n",
    "\"Has Android phone\" if person['HasAndroidPhone']else \"iphone\"))"
   ]
  },
  {
   "cell_type": "code",
   "execution_count": 19,
   "id": "800e08e7-56b5-479b-9c51-b0f07fab6812",
   "metadata": {},
   "outputs": [
    {
     "data": {
      "text/plain": [
       "dict_keys(['Name', 'Age', 'HasAndroidPhone'])"
      ]
     },
     "execution_count": 19,
     "metadata": {},
     "output_type": "execute_result"
    }
   ],
   "source": [
    "# this is optional\n",
    "person.keys()"
   ]
  },
  {
   "cell_type": "code",
   "execution_count": 20,
   "id": "e18cfcd0-c353-4a36-b116-99f46e48cad1",
   "metadata": {},
   "outputs": [
    {
     "name": "stdout",
     "output_type": "stream",
     "text": [
      "<class 'str'>\n",
      "<class 'str'>\n",
      "<class 'str'>\n"
     ]
    }
   ],
   "source": [
    "for x in person.keys():\n",
    "    print(type(x))\n"
   ]
  },
  {
   "cell_type": "markdown",
   "id": "4707bc0d-475d-4ca9-be79-7d3883d719cf",
   "metadata": {},
   "source": [
    "### *PROBLEM 2*"
   ]
  },
  {
   "cell_type": "code",
   "execution_count": 27,
   "id": "bed6f242-9087-4dee-b85e-0df8e99485bc",
   "metadata": {},
   "outputs": [],
   "source": [
    "my_list =['Red',0,True]"
   ]
  },
  {
   "cell_type": "code",
   "execution_count": 24,
   "id": "3e7f6a36-2f6a-4c34-84b9-d066a1c6dc44",
   "metadata": {},
   "outputs": [
    {
     "data": {
      "text/plain": [
       "'Red'"
      ]
     },
     "execution_count": 24,
     "metadata": {},
     "output_type": "execute_result"
    }
   ],
   "source": [
    "my_list[0]"
   ]
  },
  {
   "cell_type": "code",
   "execution_count": 28,
   "id": "54f3d51f-5018-4951-81cb-0d16fd34d29a",
   "metadata": {},
   "outputs": [
    {
     "name": "stdout",
     "output_type": "stream",
     "text": [
      "My favourite color is Red\n"
     ]
    }
   ],
   "source": [
    "print('My favourite color is',my_list[0])"
   ]
  },
  {
   "cell_type": "code",
   "execution_count": 30,
   "id": "719d903c-12ba-441f-8a4b-cfdf6ded450b",
   "metadata": {},
   "outputs": [
    {
     "name": "stdout",
     "output_type": "stream",
     "text": [
      "I have 0 pet(s)\n"
     ]
    }
   ],
   "source": [
    "print(\"I have {} pet(s)\".format(my_list[1]))"
   ]
  },
  {
   "cell_type": "code",
   "execution_count": 31,
   "id": "9705bfb2-a512-49c4-a08d-d0d206b216fd",
   "metadata": {},
   "outputs": [
    {
     "name": "stdout",
     "output_type": "stream",
     "text": [
      "I have previous experience of coding\n"
     ]
    }
   ],
   "source": [
    "if my_list[2] :\n",
    "    print(\"I have previous experience of coding\")\n",
    "else:\n",
    "    print(\"I have no experience\")"
   ]
  },
  {
   "cell_type": "code",
   "execution_count": 32,
   "id": "26299ba4-dada-4bf9-a391-49b4d47d87a4",
   "metadata": {},
   "outputs": [],
   "source": [
    "my_list.append(2)"
   ]
  },
  {
   "cell_type": "code",
   "execution_count": 33,
   "id": "e0bf0f58-1758-49d3-aec7-c2590bf55da4",
   "metadata": {},
   "outputs": [
    {
     "data": {
      "text/plain": [
       "2"
      ]
     },
     "execution_count": 33,
     "metadata": {},
     "output_type": "execute_result"
    }
   ],
   "source": [
    "my_list[3]"
   ]
  },
  {
   "cell_type": "code",
   "execution_count": 38,
   "id": "2101b633-ec9d-42c4-8f27-a33a2e2d46ba",
   "metadata": {},
   "outputs": [],
   "source": [
    "my_list.remove(0)"
   ]
  },
  {
   "cell_type": "code",
   "execution_count": 39,
   "id": "ebdaae02-0936-48e2-b390-9e5f0bac8364",
   "metadata": {},
   "outputs": [
    {
     "data": {
      "text/plain": [
       "['Red']"
      ]
     },
     "execution_count": 39,
     "metadata": {},
     "output_type": "execute_result"
    }
   ],
   "source": [
    "my_list"
   ]
  },
  {
   "cell_type": "code",
   "execution_count": 42,
   "id": "e2dfea0b-a79d-45ad-a663-87c5beb141f0",
   "metadata": {},
   "outputs": [
    {
     "name": "stdout",
     "output_type": "stream",
     "text": [
      "now the list has 1 element(s)\n"
     ]
    }
   ],
   "source": [
    "print(\"now the list has {} element(s)\". format (len(my_list)))"
   ]
  },
  {
   "cell_type": "markdown",
   "id": "d67c08c9-499e-4293-9089-cd84c3437db0",
   "metadata": {},
   "source": [
    "### *PROBLEM 3*"
   ]
  },
  {
   "cell_type": "code",
   "execution_count": 78,
   "id": "55600961-0766-49f6-9f00-c1c85787fd0b",
   "metadata": {},
   "outputs": [],
   "source": [
    "import numpy as np\n"
   ]
  },
  {
   "cell_type": "code",
   "execution_count": 79,
   "id": "a6f52114-bf63-46da-8c07-ab032750d218",
   "metadata": {},
   "outputs": [],
   "source": [
    "numbers=np.arange(21,533,7)"
   ]
  },
  {
   "cell_type": "code",
   "execution_count": 64,
   "id": "f5737eac-9934-4609-8ec3-bb93dd2e45c3",
   "metadata": {},
   "outputs": [
    {
     "data": {
      "text/plain": [
       "20461"
      ]
     },
     "execution_count": 64,
     "metadata": {},
     "output_type": "execute_result"
    }
   ],
   "source": [
    "numbers.sum()"
   ]
  },
  {
   "cell_type": "code",
   "execution_count": 65,
   "id": "d3bebeba-d495-47cb-9f0e-6c3c4f706455",
   "metadata": {},
   "outputs": [
    {
     "data": {
      "text/plain": [
       "array([ 21,  28,  35,  42,  49,  56,  63,  70,  77,  84,  91,  98, 105,\n",
       "       112, 119, 126, 133, 140, 147, 154, 161, 168, 175, 182, 189, 196,\n",
       "       203, 210, 217, 224, 231, 238, 245, 252, 259, 266, 273, 280, 287,\n",
       "       294, 301, 308, 315, 322, 329, 336, 343, 350, 357, 364, 371, 378,\n",
       "       385, 392, 399, 406, 413, 420, 427, 434, 441, 448, 455, 462, 469,\n",
       "       476, 483, 490, 497, 504, 511, 518, 525, 532])"
      ]
     },
     "execution_count": 65,
     "metadata": {},
     "output_type": "execute_result"
    }
   ],
   "source": [
    "numbers"
   ]
  },
  {
   "cell_type": "code",
   "execution_count": 83,
   "id": "35c927c8-0c60-4f29-b12b-ef5978f7c6a9",
   "metadata": {},
   "outputs": [],
   "source": [
    "numbers1= range(18,533)"
   ]
  },
  {
   "cell_type": "code",
   "execution_count": 86,
   "id": "1ade7a33-7770-444c-a8d9-9a8d090a9925",
   "metadata": {},
   "outputs": [
    {
     "name": "stdout",
     "output_type": "stream",
     "text": [
      "SUM OF THE ALL THE NUMBERS IS 20461\n"
     ]
    }
   ],
   "source": [
    "result = 0\n",
    "for x in numbers1 :\n",
    "    ego = x%7\n",
    "    if bool(ego):\n",
    "        result +=0\n",
    "    else:\n",
    "        result +=x\n",
    "result\n",
    "print(\"SUM OF THE ALL THE NUMBERS IS\", result)\n",
    "\n",
    " \n"
   ]
  },
  {
   "cell_type": "markdown",
   "id": "27f6286b-2b03-4f3a-a956-f1ec91a3e001",
   "metadata": {},
   "source": [
    "### *PROBLEM 4*"
   ]
  },
  {
   "cell_type": "code",
   "execution_count": 94,
   "id": "401c8ab5-823e-460d-ac12-026e38986a77",
   "metadata": {},
   "outputs": [
    {
     "name": "stdout",
     "output_type": "stream",
     "text": [
      "The net profit of the plane company $800\n"
     ]
    }
   ],
   "source": [
    "cost= 5000\n",
    "passengers = 29\n",
    "ticket = 200\n",
    "def plane(cost, passengers,ticket):\n",
    "    profit= (passengers*ticket)-cost\n",
    "    return profit\n",
    "\n",
    "print(\"The net profit of the plane company ${}\".format(profit))"
   ]
  },
  {
   "cell_type": "markdown",
   "id": "7c60da2e-1d43-4b50-9c0a-71ce1d5a5bbf",
   "metadata": {},
   "source": [
    "#### *OPTIONAL DOSE*"
   ]
  },
  {
   "cell_type": "code",
   "execution_count": 98,
   "id": "a26dbdaa-86ea-4052-b3d3-aef83e4f6e4a",
   "metadata": {},
   "outputs": [
    {
     "name": "stdout",
     "output_type": "stream",
     "text": [
      "company makes an overall lose of $-2600\n"
     ]
    }
   ],
   "source": [
    "passengers = 12\n",
    "if passengers == 12:\n",
    "    print(\"company makes an overall lose of ${}\".format(plane(5000,12,200)))\n",
    "else:\n",
    "    print(\"company makes an overall profit of ${}\".format(plane(5000,29,200)))"
   ]
  },
  {
   "cell_type": "markdown",
   "id": "c22a86a8-8825-46fb-90ce-42614957cffe",
   "metadata": {},
   "source": [
    "### *PROBLEM 5*"
   ]
  },
  {
   "cell_type": "code",
   "execution_count": 2,
   "id": "360b592c-ab7c-46f9-9387-77b25bee3f35",
   "metadata": {},
   "outputs": [],
   "source": [
    "tweets = [\n",
    "    \"Wow, what a great day today!! #sunshine\",\n",
    "    \"I feel sad about the things going on around us. #covid19\",\n",
    "    \"I'm really excited to learn Python with @JovianML #zerotopandas\",\n",
    "    \"This is a really nice song. #linkinpark\",\n",
    "    \"The python programming language is useful for data science\",\n",
    "    \"Why do bad things happen to me?\",\n",
    "    \"Apple announces the release of the new iPhone 12. Fans are excited.\",\n",
    "    \"Spent my day with family!! #happy\",\n",
    "    \"Check out my blog post on common string operations in Python. #zerotopandas\",\n",
    "    \"Freecodecamp has great coding tutorials. #skillup\"\n",
    "]\n"
   ]
  },
  {
   "cell_type": "code",
   "execution_count": 3,
   "id": "a2630518-31ff-45b5-bcc3-8779e1e385d7",
   "metadata": {},
   "outputs": [],
   "source": [
    "number_of_tweets= len(tweets)"
   ]
  },
  {
   "cell_type": "code",
   "execution_count": 4,
   "id": "8c32a69c-819b-4e3c-a32a-184da4df864e",
   "metadata": {},
   "outputs": [
    {
     "data": {
      "text/plain": [
       "10"
      ]
     },
     "execution_count": 4,
     "metadata": {},
     "output_type": "execute_result"
    }
   ],
   "source": [
    "number_of_tweets"
   ]
  },
  {
   "cell_type": "code",
   "execution_count": 5,
   "id": "26569bf8-6b2d-4b10-a35a-063764e8db6b",
   "metadata": {},
   "outputs": [],
   "source": [
    "happy_words=['great','excited','happy','nice','wondrrful','amazimg','good','best']"
   ]
  },
  {
   "cell_type": "code",
   "execution_count": 10,
   "id": "4fe985d7-bbb9-406b-8cf9-573d33e28eaf",
   "metadata": {},
   "outputs": [],
   "source": [
    "sad_words=['sad','bad','tragic','unhappy','worst']"
   ]
  },
  {
   "cell_type": "code",
   "execution_count": 7,
   "id": "4b48bda5-6624-4106-b45a-6bddbb6998fc",
   "metadata": {},
   "outputs": [],
   "source": [
    "sample_tweet=tweets[0]"
   ]
  },
  {
   "cell_type": "code",
   "execution_count": 8,
   "id": "25240d95-d619-4f9c-9dc3-60e8dbd01ec4",
   "metadata": {},
   "outputs": [
    {
     "data": {
      "text/plain": [
       "'Wow, what a great day today!! #sunshine'"
      ]
     },
     "execution_count": 8,
     "metadata": {},
     "output_type": "execute_result"
    }
   ],
   "source": [
    "sample_tweet"
   ]
  },
  {
   "cell_type": "code",
   "execution_count": 12,
   "id": "5ebc77bd-13a5-456a-9281-32de8f1269ce",
   "metadata": {},
   "outputs": [],
   "source": [
    "is_tweet_happy=False\n",
    "\n",
    "for word in happy_words:\n",
    "    if word in sample_tweet:\n",
    "        is_tweet_happy=True"
   ]
  },
  {
   "cell_type": "code",
   "execution_count": 13,
   "id": "932888c3-0613-44ae-acfc-baa3962e37a6",
   "metadata": {},
   "outputs": [
    {
     "data": {
      "text/plain": [
       "True"
      ]
     },
     "execution_count": 13,
     "metadata": {},
     "output_type": "execute_result"
    }
   ],
   "source": [
    "is_tweet_happy"
   ]
  },
  {
   "cell_type": "code",
   "execution_count": 17,
   "id": "245642eb-ffb3-4a3e-a1ed-ed107434dd1c",
   "metadata": {},
   "outputs": [],
   "source": [
    "y=range(0,10)"
   ]
  },
  {
   "cell_type": "code",
   "execution_count": 29,
   "id": "75dabe94-cee8-4ac2-b64d-c30eea72f371",
   "metadata": {},
   "outputs": [
    {
     "name": "stdout",
     "output_type": "stream",
     "text": [
      "total number of happy tweets is : 6\n"
     ]
    }
   ],
   "source": [
    "number_of_happy_tweets=0\n",
    "for word in happy_words:\n",
    "    for x in y:\n",
    "        if word in tweets[x]:\n",
    "            number_of_happy_tweets+=1\n",
    "        else:\n",
    "            number_of_happy_tweets+=0\n",
    "\n",
    "print(\"total number of happy tweets is :\",number_of_happy_tweets)\n"
   ]
  },
  {
   "cell_type": "code",
   "execution_count": 30,
   "id": "4e53f1fa-ba0d-49d7-a47e-687c20c12250",
   "metadata": {},
   "outputs": [
    {
     "name": "stdout",
     "output_type": "stream",
     "text": [
      "total number of sad tweets is : 2\n"
     ]
    }
   ],
   "source": [
    "number_of_sad_tweets=0\n",
    "for word in sad_words:\n",
    "    for x in y:\n",
    "        if word in tweets[x]:\n",
    "            number_of_sad_tweets+=1\n",
    "        else:\n",
    "            number_of_sad_tweets+=0\n",
    "\n",
    "print(\"total number of sad tweets is :\",number_of_sad_tweets)\n"
   ]
  },
  {
   "cell_type": "code",
   "execution_count": 31,
   "id": "00165299-c649-4464-8633-038c463964ab",
   "metadata": {},
   "outputs": [],
   "source": [
    "happy_tweet_fraction=number_of_happy_tweets/number_of_tweets"
   ]
  },
  {
   "cell_type": "code",
   "execution_count": 32,
   "id": "4c68c4c9-8937-4993-9618-55a3b3dfe383",
   "metadata": {},
   "outputs": [
    {
     "name": "stdout",
     "output_type": "stream",
     "text": [
      "the fraction of happy tweets is : 0.6\n"
     ]
    }
   ],
   "source": [
    "print('the fraction of happy tweets is :',happy_tweet_fraction)"
   ]
  },
  {
   "cell_type": "code",
   "execution_count": 33,
   "id": "29fa25ea-6a57-46cb-bf20-d2725966f321",
   "metadata": {},
   "outputs": [],
   "source": [
    "sad_tweet_fraction=number_of_sad_tweets/number_of_tweets"
   ]
  },
  {
   "cell_type": "code",
   "execution_count": 34,
   "id": "95c4f5b0-e3d1-4304-97b6-df7eaffaac75",
   "metadata": {},
   "outputs": [
    {
     "name": "stdout",
     "output_type": "stream",
     "text": [
      "the number of sad tweets is : 0.2\n"
     ]
    }
   ],
   "source": [
    "print('the number of sad tweets is :',sad_tweet_fraction)"
   ]
  },
  {
   "cell_type": "code",
   "execution_count": 36,
   "id": "dcbd8802-8581-4996-948d-3a412bb9130d",
   "metadata": {},
   "outputs": [],
   "source": [
    "sentiment_score= number_of_happy_tweets-number_of_sad_tweets"
   ]
  },
  {
   "cell_type": "code",
   "execution_count": 37,
   "id": "5c85a74c-04a8-4654-a1df-77c133e8ae02",
   "metadata": {},
   "outputs": [
    {
     "name": "stdout",
     "output_type": "stream",
     "text": [
      "The sentiment score for the given tweets is : 4\n"
     ]
    }
   ],
   "source": [
    "print(\"The sentiment score for the given tweets is :\", sentiment_score)"
   ]
  },
  {
   "cell_type": "code",
   "execution_count": 45,
   "id": "437164de-cb32-4cac-ac13-d6066b040e91",
   "metadata": {},
   "outputs": [
    {
     "name": "stdout",
     "output_type": "stream",
     "text": [
      "total number of neutral tweets is : 74\n"
     ]
    }
   ],
   "source": [
    "number_of_neutral_tweets=0\n",
    "for word in happy_words or sad_words : \n",
    "    for x in y:\n",
    "        if word in tweets[x]:\n",
    "            number_of_neutral_tweets+=0\n",
    "        else:\n",
    "            number_of_neutral_tweets+=1\n",
    "\n",
    "print(\"total number of neutral tweets is :\",number_of_neutral_tweets)\n"
   ]
  },
  {
   "cell_type": "code",
   "execution_count": 51,
   "id": "24f3dd06-60a1-4f8a-8d11-2dd595cabb04",
   "metadata": {},
   "outputs": [],
   "source": [
    "neutral_fraction=number_of_neutral_tweets/number_of_tweets"
   ]
  },
  {
   "cell_type": "code",
   "execution_count": 52,
   "id": "3e054c86-3009-48b0-bb01-87a42fbc4052",
   "metadata": {},
   "outputs": [
    {
     "name": "stdout",
     "output_type": "stream",
     "text": [
      "number of neutral tweets is : 7.4\n"
     ]
    }
   ],
   "source": [
    "print('number of neutral tweets is :',neutral_fraction)"
   ]
  },
  {
   "cell_type": "markdown",
   "id": "e317a94c-1d69-4466-bf24-73406a96187c",
   "metadata": {},
   "source": [
    "#### *MY ASSIGNMENT ENDS HERE*"
   ]
  }
 ],
 "metadata": {
  "kernelspec": {
   "display_name": "Python 3 (ipykernel)",
   "language": "python",
   "name": "python3"
  },
  "language_info": {
   "codemirror_mode": {
    "name": "ipython",
    "version": 3
   },
   "file_extension": ".py",
   "mimetype": "text/x-python",
   "name": "python",
   "nbconvert_exporter": "python",
   "pygments_lexer": "ipython3",
   "version": "3.11.4"
  }
 },
 "nbformat": 4,
 "nbformat_minor": 5
}
